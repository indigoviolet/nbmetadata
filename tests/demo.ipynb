{
 "cells": [
  {
   "cell_type": "code",
   "execution_count": null,
   "id": "c1276bd5",
   "metadata": {
    "collapsed": false
   },
   "outputs": [],
   "source": [
    "%reload_ext autoreload\n",
    "%autoreload 2\n",
    "\n",
    "## nbmd:nbmake_timeout_300\n",
    "\n",
    "from IPython.core.interactiveshell import InteractiveShell\n",
    "InteractiveShell.ast_node_interactivity = \"all\""
   ]
  },
  {
   "cell_type": "code",
   "execution_count": 105,
   "id": "e58817e9",
   "metadata": {
    "collapsed": false
   },
   "outputs": [],
   "source": [
    "from typing import List, Dict, Tuple\n",
    "from pathlib import Path\n",
    "import nbformat\n",
    "import tempfile\n",
    "from contextlib import contextmanager\n",
    "from icecream import ic\n",
    "import json\n",
    "from nbmetadata.app import main as nbmd\n",
    "\n",
    "@contextmanager\n",
    "def create_notebook(cells: List[nbformat.notebooknode.NotebookNode] = [], metadata: Dict = {}) -> Path:\n",
    "    with tempfile.NamedTemporaryFile(suffix='.ipynb', mode=\"w\") as tf:\n",
    "        nb = nbformat.v4.new_notebook()\n",
    "        nb.cells = cells\n",
    "        nb.metadata = metadata\n",
    "        nbformat.write(nb, tf)\n",
    "\n",
    "        tf.flush()\n",
    "        \n",
    "        # Both nb and the filehandle are not really valid once we run nbmd(). We\n",
    "        # also need to be careful about flush(); instead just return the path\n",
    "        yield Path(tf.name)\n",
    "\n",
    "def get_notebook_json(f: Path):\n",
    "    return json.load(f.open())"
   ]
  },
  {
   "cell_type": "code",
   "execution_count": null,
   "id": "1027e70d",
   "metadata": {
    "_nbmd_keys": [
     "tags"
    ],
    "collapsed": false,
    "tags": [
     "skip-execution"
    ]
   },
   "outputs": [],
   "source": [
    "## nbmd:nbmake_skip\n",
    "raise RuntimeError(\"This cell should be skipped\")"
   ]
  },
  {
   "cell_type": "code",
   "execution_count": 117,
   "id": "a4a9f4f6",
   "metadata": {
    "collapsed": false
   },
   "outputs": [],
   "source": [
    "# 1. given a comment -> metadata is added\n",
    "with create_notebook(cells=[nbformat.v4.new_code_cell(\"## nbmd:nbmake_skip\\nfoo\")]) as nb:\n",
    "    nbmd([nb])\n",
    "    nb_json = get_notebook_json(nb)\n",
    "    assert nb_json['cells'][0]['metadata']['tags'] == ['skip-execution']\n",
    "    assert nb_json['cells'][0]['metadata']['_nbmd_keys'] == ['tags']\n",
    "    \n",
    "    # 2. remove the comment -> metadata goes away\n",
    "    nbnode = nbformat.read(nb, as_version=nbformat.NO_CONVERT)\n",
    "    nbnode.cells[0].source = ['foo']\n",
    "    nbformat.write(nbnode, nb)\n",
    "    nbmd([nb])\n",
    "    nb_json = get_notebook_json(nb)\n",
    "    assert 'tags' not in nb_json['cells'][0]['metadata']\n",
    "    assert '_nbmd_keys' not in nb_json['cells'][0]['metadata']\n",
    "    "
   ]
  },
  {
   "cell_type": "code",
   "execution_count": 118,
   "id": "c749d4c9",
   "metadata": {
    "collapsed": false
   },
   "outputs": [],
   "source": [
    "# 3. no comment or non-magic comment -> no impact\n",
    "with create_notebook(cells=[nbformat.v4.new_code_cell(\"foo\")]) as nb:\n",
    "    nbmd([nb])\n",
    "    nb_json = get_notebook_json(nb)\n",
    "    assert 'tags' not in nb_json['cells'][0]['metadata']\n",
    "    assert '_nbmd_keys' not in nb_json['cells'][0]['metadata']\n"
   ]
  },
  {
   "cell_type": "code",
   "execution_count": 120,
   "id": "3e051e50",
   "metadata": {
    "_nbmd_keys": [
     "tags"
    ],
    "collapsed": false,
    "tags": [
     "raises-exception"
    ]
   },
   "outputs": [
    {
     "ename": "KeyError",
     "evalue": "'foo'",
     "output_type": "error",
     "traceback": [
      "\u001b[0;31m---------------------------------------------------------------------------\u001b[0m",
      "\u001b[0;31mKeyError\u001b[0m                                  Traceback (most recent call last)",
      "Input \u001b[0;32mIn [120]\u001b[0m, in \u001b[0;36m<cell line: 2>\u001b[0;34m()\u001b[0m\n\u001b[1;32m      1\u001b[0m \u001b[38;5;66;03m# 4. magic comment with typo -> error\u001b[39;00m\n\u001b[1;32m      2\u001b[0m \u001b[38;5;28;01mwith\u001b[39;00m create_notebook(cells\u001b[38;5;241m=\u001b[39m[nbformat\u001b[38;5;241m.\u001b[39mv4\u001b[38;5;241m.\u001b[39mnew_code_cell(\u001b[38;5;124m\"\u001b[39m\u001b[38;5;124m## nbmd:foo\u001b[39m\u001b[38;5;130;01m\\n\u001b[39;00m\u001b[38;5;124mfoo\u001b[39m\u001b[38;5;124m\"\u001b[39m)]) \u001b[38;5;28;01mas\u001b[39;00m nb:\n\u001b[0;32m----> 3\u001b[0m     \u001b[43mnbmd\u001b[49m\u001b[43m(\u001b[49m\u001b[43mnb\u001b[49m\u001b[43m)\u001b[49m\n",
      "File \u001b[0;32m~/dev/nbmetadata/src/nbmetadata/app.py:115\u001b[0m, in \u001b[0;36mmain\u001b[0;34m(notebook_file, prefix, config_file)\u001b[0m\n\u001b[1;32m    113\u001b[0m     keys \u001b[38;5;241m=\u001b[39m [m\u001b[38;5;241m.\u001b[39mgroup(\u001b[38;5;124m\"\u001b[39m\u001b[38;5;124mkey\u001b[39m\u001b[38;5;124m\"\u001b[39m) \u001b[38;5;28;01mfor\u001b[39;00m m \u001b[38;5;129;01min\u001b[39;00m comment_re\u001b[38;5;241m.\u001b[39mfinditer(cell\u001b[38;5;241m.\u001b[39msource)]\n\u001b[1;32m    114\u001b[0m     \u001b[38;5;28;01mfor\u001b[39;00m k \u001b[38;5;129;01min\u001b[39;00m \u001b[38;5;28mset\u001b[39m(keys):\n\u001b[0;32m--> 115\u001b[0m         \u001b[43madd_metadata\u001b[49m\u001b[43m(\u001b[49m\u001b[43mk\u001b[49m\u001b[43m,\u001b[49m\u001b[43m \u001b[49m\u001b[43mcell\u001b[49m\u001b[43m,\u001b[49m\u001b[43m \u001b[49m\u001b[43mnotebook\u001b[49m\u001b[43m,\u001b[49m\u001b[43m \u001b[49m\u001b[43mconfig\u001b[49m\u001b[38;5;241;43m=\u001b[39;49m\u001b[43mcfg\u001b[49m\u001b[43m,\u001b[49m\u001b[43m \u001b[49m\u001b[43mmerger\u001b[49m\u001b[38;5;241;43m=\u001b[39;49m\u001b[43mmerger\u001b[49m\u001b[43m)\u001b[49m\n\u001b[1;32m    116\u001b[0m         modified \u001b[38;5;241m=\u001b[39m \u001b[38;5;28;01mTrue\u001b[39;00m\n\u001b[1;32m    117\u001b[0m \u001b[38;5;28;01mif\u001b[39;00m modified:\n",
      "File \u001b[0;32m~/dev/nbmetadata/src/nbmetadata/app.py:84\u001b[0m, in \u001b[0;36madd_metadata\u001b[0;34m(key, cell, notebook, config, merger)\u001b[0m\n\u001b[1;32m     77\u001b[0m \u001b[38;5;28;01mdef\u001b[39;00m \u001b[38;5;21madd_metadata\u001b[39m(\n\u001b[1;32m     78\u001b[0m     key: \u001b[38;5;28mstr\u001b[39m,\n\u001b[1;32m     79\u001b[0m     cell: nbformat\u001b[38;5;241m.\u001b[39mnotebooknode\u001b[38;5;241m.\u001b[39mNotebookNode,\n\u001b[0;32m   (...)\u001b[0m\n\u001b[1;32m     82\u001b[0m     merger: Merger,\n\u001b[1;32m     83\u001b[0m ):\n\u001b[0;32m---> 84\u001b[0m     to_add \u001b[38;5;241m=\u001b[39m \u001b[43mconfig\u001b[49m\u001b[38;5;241;43m.\u001b[39;49m\u001b[43mget\u001b[49m\u001b[43m(\u001b[49m\u001b[43mkey\u001b[49m\u001b[43m)\u001b[49m\n\u001b[1;32m     86\u001b[0m     \u001b[38;5;28;01mif\u001b[39;00m to_add\u001b[38;5;241m.\u001b[39mget(\u001b[38;5;124m\"\u001b[39m\u001b[38;5;124m_top\u001b[39m\u001b[38;5;124m\"\u001b[39m, \u001b[38;5;28;01mFalse\u001b[39;00m):\n\u001b[1;32m     87\u001b[0m         \u001b[38;5;28;01mdel\u001b[39;00m to_add[\u001b[38;5;124m\"\u001b[39m\u001b[38;5;124m_top\u001b[39m\u001b[38;5;124m\"\u001b[39m]\n",
      "File \u001b[0;32m~/dev/nbmetadata/src/nbmetadata/app.py:43\u001b[0m, in \u001b[0;36mConfig.get\u001b[0;34m(self, key)\u001b[0m\n\u001b[1;32m     42\u001b[0m \u001b[38;5;28;01mdef\u001b[39;00m \u001b[38;5;21mget\u001b[39m(\u001b[38;5;28mself\u001b[39m, key):\n\u001b[0;32m---> 43\u001b[0m     \u001b[38;5;28;01mreturn\u001b[39;00m \u001b[38;5;28;43mself\u001b[39;49m\u001b[38;5;241;43m.\u001b[39;49m\u001b[43mmerged\u001b[49m\u001b[43m[\u001b[49m\u001b[43mkey\u001b[49m\u001b[43m]\u001b[49m\n",
      "\u001b[0;31mKeyError\u001b[0m: 'foo'"
     ]
    }
   ],
   "source": [
    "## nbmd:nbmake_raises\n",
    "# 4. magic comment with typo -> error\n",
    "with create_notebook(cells=[nbformat.v4.new_code_cell(\"## nbmd:foo\\nfoo\")]) as nb:\n",
    "    nbmd([nb])\n"
   ]
  },
  {
   "cell_type": "code",
   "execution_count": 121,
   "id": "7e5e11a8",
   "metadata": {
    "collapsed": false
   },
   "outputs": [],
   "source": [
    "# 5. top-level comment -> works\n",
    "with create_notebook(cells=[nbformat.v4.new_code_cell(\"## nbmd:nbmake_timeout_300\\nfoo\")]) as nb:\n",
    "    nbmd([nb])\n",
    "    nb_json = get_notebook_json(nb)\n",
    "    assert nb_json['metadata']['execution'] == {'timeout': 300}\n",
    "    assert nb_json['metadata']['_nbmd_keys'] == ['execution']\n",
    "\n"
   ]
  }
 ],
 "metadata": {
  "_nbmd_keys": [
   "execution"
  ],
  "execution": {
   "timeout": 300
  },
  "kernelspec": {
   "argv": [
    "/home/venky/dev/nbmetadata/.venv/bin/python",
    "-m",
    "ipykernel_launcher",
    "-f",
    "{connection_file}"
   ],
   "display_name": "nbmetadata",
   "env": null,
   "interrupt_mode": "signal",
   "language": "python",
   "metadata": {
    "debugger": true
   },
   "name": "nbmetadata"
  },
  "name": "demo.ipynb"
 },
 "nbformat": 4,
 "nbformat_minor": 5
}
