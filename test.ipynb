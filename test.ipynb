{
 "cells": [
  {
   "cell_type": "code",
   "execution_count": 3,
   "id": "483a36c5",
   "metadata": {
    "collapsed": false
   },
   "outputs": [],
   "source": [
    "%reload_ext autoreload\n",
    "%autoreload 2\n",
    "from IPython.core.interactiveshell import InteractiveShell\n",
    "\n",
    "InteractiveShell.ast_node_interactivity = \"all\""
   ]
  },
  {
   "cell_type": "code",
   "custom": {
    "metadata": {
     "tags": [
      "skip-execution"
     ]
    }
   },
   "execution_count": 4,
   "id": "3857678d",
   "metadata": {
    "collapsed": false
   },
   "outputs": [
    {
     "name": "stdout",
     "output_type": "stream",
     "text": [
      "testing ignore\n"
     ]
    }
   ],
   "source": [
    "## nbmd:nbmake_skip\n",
    "print(\"testing ignore\")"
   ]
  },
  {
   "cell_type": "code",
   "execution_count": null,
   "id": "49b6ca6b",
   "metadata": {
    "collapsed": false
   },
   "outputs": [],
   "source": [
    "## foo\n",
    "print(\"testing error\")"
   ]
  },
  {
   "cell_type": "code",
   "execution_count": null,
   "id": "4c32ceea",
   "metadata": {
    "collapsed": false
   },
   "outputs": [],
   "source": []
  }
 ],
 "metadata": {
  "kernelspec": {
   "argv": [
    "/home/venky/dev/nbmetadata/.venv/bin/python",
    "-m",
    "ipykernel_launcher",
    "-f",
    "{connection_file}"
   ],
   "display_name": "nbmetadata",
   "env": null,
   "interrupt_mode": "signal",
   "language": "python",
   "metadata": {
    "debugger": true
   },
   "name": "nbmetadata"
  },
  "name": "test.ipynb"
 },
 "nbformat": 4,
 "nbformat_minor": 5
}
